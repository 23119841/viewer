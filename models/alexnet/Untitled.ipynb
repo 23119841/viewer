{
 "cells": [
  {
   "cell_type": "code",
   "execution_count": 2,
   "metadata": {},
   "outputs": [
    {
     "name": "stdout",
     "output_type": "stream",
     "text": [
      "Dialing Zetane...\n",
      "Did not connect!\n",
      "Dialing Zetane...\n",
      "Did not connect!\n",
      "Dialing Zetane...\n",
      "Did not connect!\n",
      "running process: c:\\users\\ztndev\\anaconda3\\envs\\zetane_1\\lib\\site-packages\\zetane\\bin\\Zetane.exe --server 127.0.0.1 --port 4004\n",
      "Dialing Zetane...\n",
      "Did not connect!\n",
      "Dialing Zetane...\n",
      "Connected to Zetane Engine!\n",
      "Predicted [('n04209239', 'shower_curtain', 0.018014835), ('n03788365', 'mosquito_net', 0.008122097), ('n04275548', 'spider_web', 0.0044968817), ('n04590129', 'window_shade', 0.0043188585), ('n04040759', 'radiator', 0.004195405), ('n09246464', 'cliff', 0.004115134), ('n04589890', 'window_screen', 0.0035529293), ('n04525038', 'velvet', 0.003483004), ('n02363005', 'beaver', 0.003408741), ('n04606251', 'wreck', 0.003203338)]\n"
     ]
    }
   ],
   "source": [
    "%run alexnet"
   ]
  },
  {
   "cell_type": "code",
   "execution_count": null,
   "metadata": {},
   "outputs": [],
   "source": []
  }
 ],
 "metadata": {
  "kernelspec": {
   "display_name": "Zetane_1",
   "language": "python",
   "name": "zetane_1"
  },
  "language_info": {
   "codemirror_mode": {
    "name": "ipython",
    "version": 3
   },
   "file_extension": ".py",
   "mimetype": "text/x-python",
   "name": "python",
   "nbconvert_exporter": "python",
   "pygments_lexer": "ipython3",
   "version": "3.8.5"
  }
 },
 "nbformat": 4,
 "nbformat_minor": 4
}
